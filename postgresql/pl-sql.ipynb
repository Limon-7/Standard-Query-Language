{
 "cells": [
  {
   "cell_type": "markdown",
   "metadata": {},
   "source": [
    "### Problem#1\n",
    "Suppose you have table_1, table_2, table_3, table_4. You have to update table_4 column base on table_3. But there is a requirement that you can only access table_2, table_3, table_4 base on table_1."
   ]
  },
  {
   "cell_type": "markdown",
   "metadata": {},
   "source": [
    "#### Solution:##1\n",
    "Here we will iterate through each table then update the table_4.\n",
    "`PROBLEM` is that it is not an ideal solution  beacuse neasted for loops."
   ]
  },
  {
   "cell_type": "code",
   "execution_count": null,
   "metadata": {
    "vscode": {
     "languageId": "sql"
    }
   },
   "outputs": [],
   "source": [
    "do\n",
    "$$\n",
    "    declare\n",
    "        pBook        record;\n",
    "        pBookPage    record;\n",
    "        pBookTextBox record;\n",
    "    begin\n",
    "        for pBook in select \"ProBookId\"\n",
    "                     from \"ProBooks\"\n",
    "                     where \"IsSample\" is true\n",
    "            loop\n",
    "                raise notice 'Book=% ', pBook.\"ProBookId\";\n",
    "                for pBookPage in select \"ProBookPageId\"\n",
    "                                 from \"ProBookPages\"\n",
    "                                 where \"ProBookId\" = pBook.\"ProBookId\"\n",
    "                    loop\n",
    "                        raise notice 'Book=%  Pages=% ',pBook.\"ProBookId\", pBookPage.\"ProBookPageId\";\n",
    "                        for pBookTextBox in select \"ProBookTextBoxId\"\n",
    "                                            from \"ProBookTextBoxes\"\n",
    "                                            where \"ProBookPageId\" = pBookPage.\"ProBookPageId\"\n",
    "                            loop\n",
    "                                Update \"ProBookTexts\"\n",
    "                                set \"IsSample\"= true\n",
    "                                where \"ProBookTextBoxId\" = pBookTextBox.\"ProBookTextBoxId\";\n",
    "                            end loop;\n",
    "                    end loop;\n",
    "            end loop;\n",
    "    end ;\n",
    "$$;"
   ]
  },
  {
   "cell_type": "markdown",
   "metadata": {},
   "source": [
    "#### Solution-2\n",
    "1. Join table_1, table_2, table_3\n",
    "2. Update table_4 base on table_3"
   ]
  },
  {
   "cell_type": "code",
   "execution_count": null,
   "metadata": {
    "vscode": {
     "languageId": "sql"
    }
   },
   "outputs": [],
   "source": [
    "update \"ProBookTexts\"\n",
    "        set \"IsSample\" = true\n",
    "        where \"ProBookTextBoxId\" in (\n",
    "            select tb.\"ProBookTextBoxId\"\n",
    "            from \"ProBooks\" b\n",
    "                     join \"ProBookPages\" p on b.\"ProBookId\" = p.\"ProBookId\"\n",
    "                     join \"ProBookTextBoxes\" tb on p.\"ProBookPageId\" = tb.\"ProBookPageId\"\n",
    "            where b.\"IsSample\" = true\n",
    "        );"
   ]
  },
  {
   "cell_type": "markdown",
   "metadata": {},
   "source": [
    "#### Solution-3: LINQ"
   ]
  },
  {
   "cell_type": "markdown",
   "metadata": {},
   "source": [
    "```linq\n",
    "allTextIds = context.ProBookTexts\n",
    "        .Where(pbt => context.ProBooks\n",
    "            .Where(b => b.IsSample)\n",
    "            .Join(\n",
    "                context.ProBookPages,\n",
    "                b => b.ProBookId,\n",
    "                p => p.ProBookId,\n",
    "                (b, p) => new { b, p }\n",
    "            )\n",
    "            .Join(\n",
    "                context.ProBookTextBoxes,\n",
    "                bp => bp.p.ProBookPageId,\n",
    "                tb => tb.ProBookPageId,\n",
    "                (bp, tb) => tb.ProBookTextBoxId\n",
    "            )\n",
    "            .Contains(pbt.ProBookTextBoxId))\n",
    "        .ToList();\n",
    "```\n",
    "or \n",
    "```\n",
    "var textBoxIdsToUpdate = (from b in context.ProBooks\n",
    "                            where b.IsSample\n",
    "                              join p in context.ProBookPages on b.ProBookId equals p.ProBookId\n",
    "                              join tb in context.ProBookTextBoxes on p.ProBookPageId equals tb.ProBookPageId\n",
    "                              join t in context.ProBookTexts on tb.ProBookTextBoxId equals t.ProBookTextBoxId\n",
    "                              select t.ProBookTextBoxId)\n",
    "                            .ToList();\n",
    "// then extract the texts\n",
    "  var textsToUpdate = context.ProBookTexts\n",
    "                            .Where(t => textBoxIdsToUpdate.Contains(t.ProBookTextBoxId))\n",
    "                        .ToList();\n",
    "```\n",
    "or \n",
    "```\n",
    "var textsToUpdate = context.ProBookTexts\n",
    "    .Where(t => \n",
    "        (from b in context.ProBooks\n",
    "        where b.IsSample\n",
    "         join p in context.ProBookPages on b.ProBookId equals p.ProBookId\n",
    "         join tb in context.ProBookTextBoxes on p.ProBookPageId equals tb.ProBookPageId\n",
    "         select tb.ProBookTextBoxId)\n",
    "         .Contains(t.ProBookTextBoxId))\n",
    "    .ToList();\n",
    "```"
   ]
  },
  {
   "cell_type": "code",
   "execution_count": null,
   "metadata": {
    "vscode": {
     "languageId": "sql"
    }
   },
   "outputs": [],
   "source": []
  },
  {
   "cell_type": "markdown",
   "metadata": {},
   "source": [
    "### More advanced SQL"
   ]
  },
  {
   "cell_type": "code",
   "execution_count": null,
   "metadata": {
    "vscode": {
     "languageId": "sql"
    }
   },
   "outputs": [],
   "source": []
  }
 ],
 "metadata": {
  "language_info": {
   "name": "python"
  }
 },
 "nbformat": 4,
 "nbformat_minor": 2
}
